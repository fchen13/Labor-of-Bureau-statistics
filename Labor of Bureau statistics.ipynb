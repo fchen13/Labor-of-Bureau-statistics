{
 "cells": [
  {
   "cell_type": "markdown",
   "metadata": {
    "slideshow": null
   },
   "source": [
    "## Introduction\n"
   ]
  },
  {
   "cell_type": "markdown",
   "metadata": {
    "slideshow": null
   },
   "source": [
    "Data provider [Quandl](https://www.quandl.com/) offers a vast array of free and paid databases, all accessible with the same Python API (application program interface). Quandl aggregates data from many sources, ranging from scientific to economic to government related topics. They conveniently provide the data in powerful Pandas DataFrames."
   ]
  },
  {
   "cell_type": "markdown",
   "metadata": {
    "slideshow": null
   },
   "source": [
    "## Getting Data From Quandl\n"
   ]
  },
  {
   "cell_type": "markdown",
   "metadata": {
    "slideshow": null
   },
   "source": [
    "To use Quandl you will have to create an API key. The purpose of the API key is to make it easy for Quandl to track the usage of their data (creating data for them to study!) and for them to ensure that no one user is abusing their system with too many requests.\n",
    "\n",
    "Create an API key by first creating an account on [Quandl](https://www.quandl.com/). You can log in with your Google, GitHub or LinkedIn accounts if you like.\n",
    "\n",
    "After creating an account, access your *Account Settings* from the *Me* dropdown in the upper right corner. Then click on the *API KEY* link on the left below *PASSWORD*. Save the API Key: you'll need that in a moment. There is [documentation](https://www.quandl.com/docs/api?python#) available for the API. \n",
    "\n",
    "Quandl provides a Python module that allows for easy access to their API.  "
   ]
  },
  {
   "cell_type": "code",
   "execution_count": 2,
   "metadata": {
    "slideshow": null
   },
   "outputs": [],
   "source": [
    "import seaborn as sns\n",
    "sns.set()\n",
    "import pandas as pd\n",
    "import quandl"
   ]
  },
  {
   "cell_type": "markdown",
   "metadata": {
    "slideshow": null
   },
   "source": [
    "Now, tell Quandl about the API key you created above:"
   ]
  },
  {
   "cell_type": "code",
   "execution_count": 3,
   "metadata": {
    "slideshow": null
   },
   "outputs": [],
   "source": [
    "quandl.ApiConfig.api_key = 'hp1krGfL8waVVz3Sxb5Q'  # Fill in your value here"
   ]
  },
  {
   "cell_type": "markdown",
   "metadata": {
    "slideshow": null
   },
   "source": [
    "## Bureau of Labor Statistics codes"
   ]
  },
  {
   "cell_type": "markdown",
   "metadata": {
    "slideshow": null
   },
   "source": [
    "We will use data provided by the US [Bureau of Labor Statistics](https://www.quandl.com/data/BLSE?keyword=). Among other things, they track monthly employment numbers by industry for each state.\n",
    "\n",
    "We are specifically interested in their *State and Area Employment, Hours, and Earnings* data, as described in their [documentation](https://www.quandl.com/data/BLSE/documentation/documentation). The documentation describes the *Code Nomenclature* for data files for all of the combinations of states and industries and seasonally/not seasonally adjusted data.\n",
    "\n",
    "Each of these data sets looks like this one:\n",
    "\n",
    "https://www.quandl.com/data/BLSE/SMS01000004300000001-All-Employees-In-Thousands-Transportation-and-Utilities-Alabama\n",
    "\n",
    "In this project, we will need to combine all of the data tables in this subgroup of the `BLS` database. There will be about 1118 tables in total. We will develop a process for downloading them one by one using `quandl.get()` on the Quandl codes for individual tables, and then concatenate them all into one data set.\n",
    "\n",
    "Quandl provides a convenient database metadata file containing the `BLSE` data set codes and descriptions. We'll download this file and pick out the *State and Area Employment, Hours, and Earnings* data table codes based on the table descriptions."
   ]
  },
  {
   "cell_type": "code",
   "execution_count": 11,
   "metadata": {
    "slideshow": null
   },
   "outputs": [],
   "source": [
    "!aws s3 sync s3://dataincubator-course/BLSE/BLSE_codes.zip ."
   ]
  },
  {
   "cell_type": "markdown",
   "metadata": {
    "slideshow": null
   },
   "source": [
    "Now, we can load all of the metadata into a dataframe:"
   ]
  },
  {
   "cell_type": "code",
   "execution_count": 4,
   "metadata": {
    "slideshow": null
   },
   "outputs": [
    {
     "data": {
      "text/html": [
       "<div>\n",
       "<style scoped>\n",
       "    .dataframe tbody tr th:only-of-type {\n",
       "        vertical-align: middle;\n",
       "    }\n",
       "\n",
       "    .dataframe tbody tr th {\n",
       "        vertical-align: top;\n",
       "    }\n",
       "\n",
       "    .dataframe thead th {\n",
       "        text-align: right;\n",
       "    }\n",
       "</style>\n",
       "<table border=\"1\" class=\"dataframe\">\n",
       "  <thead>\n",
       "    <tr style=\"text-align: right;\">\n",
       "      <th></th>\n",
       "      <th>Code</th>\n",
       "      <th>Description</th>\n",
       "    </tr>\n",
       "  </thead>\n",
       "  <tbody>\n",
       "    <tr>\n",
       "      <th>0</th>\n",
       "      <td>BLSE/SMU24000005051700001</td>\n",
       "      <td>All Employees, In Thousands; Telecommunication...</td>\n",
       "    </tr>\n",
       "    <tr>\n",
       "      <th>1</th>\n",
       "      <td>BLSE/SMU51000000700000001</td>\n",
       "      <td>All Employees, In Thousands; Service-Providing...</td>\n",
       "    </tr>\n",
       "    <tr>\n",
       "      <th>2</th>\n",
       "      <td>BLSE/BDU0000000000000000110004RQ5</td>\n",
       "      <td>Employment; Gross Job Losses; All industries; ...</td>\n",
       "    </tr>\n",
       "    <tr>\n",
       "      <th>3</th>\n",
       "      <td>BLSE/BDU0000000000000000110005RQ5</td>\n",
       "      <td>Employment; Contractions; All industries; Rate...</td>\n",
       "    </tr>\n",
       "    <tr>\n",
       "      <th>4</th>\n",
       "      <td>BLSE/CEU0000000001</td>\n",
       "      <td>Employment - All employees, thousands; Total n...</td>\n",
       "    </tr>\n",
       "  </tbody>\n",
       "</table>\n",
       "</div>"
      ],
      "text/plain": [
       "                                Code  \\\n",
       "0          BLSE/SMU24000005051700001   \n",
       "1          BLSE/SMU51000000700000001   \n",
       "2  BLSE/BDU0000000000000000110004RQ5   \n",
       "3  BLSE/BDU0000000000000000110005RQ5   \n",
       "4                 BLSE/CEU0000000001   \n",
       "\n",
       "                                         Description  \n",
       "0  All Employees, In Thousands; Telecommunication...  \n",
       "1  All Employees, In Thousands; Service-Providing...  \n",
       "2  Employment; Gross Job Losses; All industries; ...  \n",
       "3  Employment; Contractions; All industries; Rate...  \n",
       "4  Employment - All employees, thousands; Total n...  "
      ]
     },
     "execution_count": 4,
     "metadata": {},
     "output_type": "execute_result"
    }
   ],
   "source": [
    "blse_codes = pd.read_csv('BLSE-datasets-codes.csv', header=None,\n",
    "                    names=('Code', 'Description'))\n",
    "blse_codes.head()"
   ]
  },
  {
   "cell_type": "markdown",
   "metadata": {
    "slideshow": null
   },
   "source": [
    "All of the tables with relevant employment information have a description that begins, \"All Employees\".  Create a new data frame that contains only those rows. "
   ]
  },
  {
   "cell_type": "code",
   "execution_count": 5,
   "metadata": {
    "slideshow": null
   },
   "outputs": [],
   "source": [
    "valid_codes = blse_codes[blse_codes['Description'].str.startswith('All Employees')]"
   ]
  },
  {
   "cell_type": "markdown",
   "metadata": {
    "slideshow": null
   },
   "source": [
    "## Downloading data"
   ]
  },
  {
   "cell_type": "markdown",
   "metadata": {
    "slideshow": null
   },
   "source": [
    "We want to download and store the tables corresponding with each Quandl code in the `valid_codes` DataFrame.  Let's start by downloading the data from the beginning of 2006 to the end of 2015 corresponding with just one code:"
   ]
  },
  {
   "cell_type": "code",
   "execution_count": 35,
   "metadata": {
    "slideshow": null
   },
   "outputs": [
    {
     "name": "stdout",
     "output_type": "stream",
     "text": [
      "BLSE/SMU51000000700000001 All Employees, In Thousands; Service-Providing - Virginia\n"
     ]
    }
   ],
   "source": [
    "code = valid_codes.loc[1, 'Code']\n",
    "description = valid_codes.loc[1, 'Description']\n",
    "print(code, description)"
   ]
  },
  {
   "cell_type": "code",
   "execution_count": 6,
   "metadata": {
    "slideshow": null
   },
   "outputs": [
    {
     "data": {
      "text/html": [
       "<div>\n",
       "<style scoped>\n",
       "    .dataframe tbody tr th:only-of-type {\n",
       "        vertical-align: middle;\n",
       "    }\n",
       "\n",
       "    .dataframe tbody tr th {\n",
       "        vertical-align: top;\n",
       "    }\n",
       "\n",
       "    .dataframe thead th {\n",
       "        text-align: right;\n",
       "    }\n",
       "</style>\n",
       "<table border=\"1\" class=\"dataframe\">\n",
       "  <thead>\n",
       "    <tr style=\"text-align: right;\">\n",
       "      <th></th>\n",
       "      <th>Value</th>\n",
       "    </tr>\n",
       "    <tr>\n",
       "      <th>Date</th>\n",
       "      <th></th>\n",
       "    </tr>\n",
       "  </thead>\n",
       "  <tbody>\n",
       "    <tr>\n",
       "      <th>2006-01-31</th>\n",
       "      <td>20.2</td>\n",
       "    </tr>\n",
       "    <tr>\n",
       "      <th>2006-02-28</th>\n",
       "      <td>20.3</td>\n",
       "    </tr>\n",
       "    <tr>\n",
       "      <th>2006-03-31</th>\n",
       "      <td>20.4</td>\n",
       "    </tr>\n",
       "    <tr>\n",
       "      <th>2006-04-30</th>\n",
       "      <td>20.5</td>\n",
       "    </tr>\n",
       "    <tr>\n",
       "      <th>2006-05-31</th>\n",
       "      <td>20.6</td>\n",
       "    </tr>\n",
       "    <tr>\n",
       "      <th>...</th>\n",
       "      <td>...</td>\n",
       "    </tr>\n",
       "    <tr>\n",
       "      <th>2015-08-31</th>\n",
       "      <td>14.3</td>\n",
       "    </tr>\n",
       "    <tr>\n",
       "      <th>2015-09-30</th>\n",
       "      <td>14.2</td>\n",
       "    </tr>\n",
       "    <tr>\n",
       "      <th>2015-10-31</th>\n",
       "      <td>14.9</td>\n",
       "    </tr>\n",
       "    <tr>\n",
       "      <th>2015-11-30</th>\n",
       "      <td>14.3</td>\n",
       "    </tr>\n",
       "    <tr>\n",
       "      <th>2015-12-31</th>\n",
       "      <td>14.2</td>\n",
       "    </tr>\n",
       "  </tbody>\n",
       "</table>\n",
       "<p>120 rows × 1 columns</p>\n",
       "</div>"
      ],
      "text/plain": [
       "            Value\n",
       "Date             \n",
       "2006-01-31   20.2\n",
       "2006-02-28   20.3\n",
       "2006-03-31   20.4\n",
       "2006-04-30   20.5\n",
       "2006-05-31   20.6\n",
       "...           ...\n",
       "2015-08-31   14.3\n",
       "2015-09-30   14.2\n",
       "2015-10-31   14.9\n",
       "2015-11-30   14.3\n",
       "2015-12-31   14.2\n",
       "\n",
       "[120 rows x 1 columns]"
      ]
     },
     "execution_count": 6,
     "metadata": {},
     "output_type": "execute_result"
    }
   ],
   "source": [
    "df = quandl.get('BLSE/SMU24000005051700001', start_date='2006-01-01', end_date='2015-12-31')"
   ]
  },
  {
   "cell_type": "markdown",
   "metadata": {
    "slideshow": null
   },
   "source": [
    "Now, we'll create a single function, so that we can reuse it for each `BLSE` data set.  The function should accept a Quandl code and table description, and use those arguments to retrieve the data set into a dataframe, adding columns for the state, category, and adjustment flag.\n",
    "\n",
    "It's also a good idea to have this function write the dataframe to a file.  This way, if a data retrieval fails, we can rerun just that data set without needing to download all of the data again.\n",
    "\n",
    "We can use Pandas' `to_pickle()` and `from_pickle()` functions, or another mechanism.  The checkpoint library [ediblepickle](https://pypi.python.org/pypi/ediblepickle/1.1.3) could also be used to streamline the process so that the time-consuming code will only be run when necessary."
   ]
  },
  {
   "cell_type": "code",
   "execution_count": 8,
   "metadata": {
    "slideshow": null
   },
   "outputs": [],
   "source": [
    "import time\n",
    "import regex as re\n",
    "import quandl\n",
    "import pandas as pd\n",
    "\n",
    "quandl.ApiConfig.api_key = 'hp1krGfL8waVVz3Sxb5Q'\n",
    "\n",
    "def get_data(code, description):\n",
    "    # Download data\n",
    "    # Add columns\n",
    "    # Save locally\n",
    "    # Return the dataframe\n",
    "    time.sleep(0.1)\n",
    "    df = quandl.get(code, start_date='2006-01-01', end_date='2015-12-31')\n",
    "    parsing = [item.strip(' ') for item in (re.split(r'[,;-]\\s+', description))]\n",
    "    state = parsing[-1]\n",
    "    category = parsing[-2]\n",
    "    if code[7] == 'S':\n",
    "        adjusted = True\n",
    "    if code[7] == 'U':\n",
    "        adjusted = False\n",
    "   \n",
    "    df['State'] = pd.Series(state, index=df.index)\n",
    "    df['Category'] = pd.Series(category, index=df.index)\n",
    "    df['Adjusted'] = pd.Series(adjusted, index=df.index)\n",
    "    df.to_pickle('sample_df.pkl')\n",
    "    return df\n"
   ]
  },
  {
   "cell_type": "markdown",
   "metadata": {
    "slideshow": null
   },
   "source": [
    "Test that function for several Quandl codes and table descriptions from `valid_codes` by changing `idx` in the cell below to make sure the function works as we expect."
   ]
  },
  {
   "cell_type": "code",
   "execution_count": 9,
   "metadata": {
    "slideshow": null
   },
   "outputs": [
    {
     "data": {
      "text/html": [
       "<div>\n",
       "<style scoped>\n",
       "    .dataframe tbody tr th:only-of-type {\n",
       "        vertical-align: middle;\n",
       "    }\n",
       "\n",
       "    .dataframe tbody tr th {\n",
       "        vertical-align: top;\n",
       "    }\n",
       "\n",
       "    .dataframe thead th {\n",
       "        text-align: right;\n",
       "    }\n",
       "</style>\n",
       "<table border=\"1\" class=\"dataframe\">\n",
       "  <thead>\n",
       "    <tr style=\"text-align: right;\">\n",
       "      <th></th>\n",
       "      <th>Value</th>\n",
       "      <th>State</th>\n",
       "      <th>Category</th>\n",
       "      <th>Adjusted</th>\n",
       "    </tr>\n",
       "    <tr>\n",
       "      <th>Date</th>\n",
       "      <th></th>\n",
       "      <th></th>\n",
       "      <th></th>\n",
       "      <th></th>\n",
       "    </tr>\n",
       "  </thead>\n",
       "  <tbody>\n",
       "    <tr>\n",
       "      <th>2006-01-31</th>\n",
       "      <td>20.2</td>\n",
       "      <td>Maryland</td>\n",
       "      <td>Telecommunications</td>\n",
       "      <td>False</td>\n",
       "    </tr>\n",
       "    <tr>\n",
       "      <th>2006-02-28</th>\n",
       "      <td>20.3</td>\n",
       "      <td>Maryland</td>\n",
       "      <td>Telecommunications</td>\n",
       "      <td>False</td>\n",
       "    </tr>\n",
       "    <tr>\n",
       "      <th>2006-03-31</th>\n",
       "      <td>20.4</td>\n",
       "      <td>Maryland</td>\n",
       "      <td>Telecommunications</td>\n",
       "      <td>False</td>\n",
       "    </tr>\n",
       "    <tr>\n",
       "      <th>2006-04-30</th>\n",
       "      <td>20.5</td>\n",
       "      <td>Maryland</td>\n",
       "      <td>Telecommunications</td>\n",
       "      <td>False</td>\n",
       "    </tr>\n",
       "    <tr>\n",
       "      <th>2006-05-31</th>\n",
       "      <td>20.6</td>\n",
       "      <td>Maryland</td>\n",
       "      <td>Telecommunications</td>\n",
       "      <td>False</td>\n",
       "    </tr>\n",
       "    <tr>\n",
       "      <th>...</th>\n",
       "      <td>...</td>\n",
       "      <td>...</td>\n",
       "      <td>...</td>\n",
       "      <td>...</td>\n",
       "    </tr>\n",
       "    <tr>\n",
       "      <th>2015-08-31</th>\n",
       "      <td>14.3</td>\n",
       "      <td>Maryland</td>\n",
       "      <td>Telecommunications</td>\n",
       "      <td>False</td>\n",
       "    </tr>\n",
       "    <tr>\n",
       "      <th>2015-09-30</th>\n",
       "      <td>14.2</td>\n",
       "      <td>Maryland</td>\n",
       "      <td>Telecommunications</td>\n",
       "      <td>False</td>\n",
       "    </tr>\n",
       "    <tr>\n",
       "      <th>2015-10-31</th>\n",
       "      <td>14.9</td>\n",
       "      <td>Maryland</td>\n",
       "      <td>Telecommunications</td>\n",
       "      <td>False</td>\n",
       "    </tr>\n",
       "    <tr>\n",
       "      <th>2015-11-30</th>\n",
       "      <td>14.3</td>\n",
       "      <td>Maryland</td>\n",
       "      <td>Telecommunications</td>\n",
       "      <td>False</td>\n",
       "    </tr>\n",
       "    <tr>\n",
       "      <th>2015-12-31</th>\n",
       "      <td>14.2</td>\n",
       "      <td>Maryland</td>\n",
       "      <td>Telecommunications</td>\n",
       "      <td>False</td>\n",
       "    </tr>\n",
       "  </tbody>\n",
       "</table>\n",
       "<p>120 rows × 4 columns</p>\n",
       "</div>"
      ],
      "text/plain": [
       "            Value     State            Category  Adjusted\n",
       "Date                                                     \n",
       "2006-01-31   20.2  Maryland  Telecommunications     False\n",
       "2006-02-28   20.3  Maryland  Telecommunications     False\n",
       "2006-03-31   20.4  Maryland  Telecommunications     False\n",
       "2006-04-30   20.5  Maryland  Telecommunications     False\n",
       "2006-05-31   20.6  Maryland  Telecommunications     False\n",
       "...           ...       ...                 ...       ...\n",
       "2015-08-31   14.3  Maryland  Telecommunications     False\n",
       "2015-09-30   14.2  Maryland  Telecommunications     False\n",
       "2015-10-31   14.9  Maryland  Telecommunications     False\n",
       "2015-11-30   14.3  Maryland  Telecommunications     False\n",
       "2015-12-31   14.2  Maryland  Telecommunications     False\n",
       "\n",
       "[120 rows x 4 columns]"
      ]
     },
     "execution_count": 9,
     "metadata": {},
     "output_type": "execute_result"
    }
   ],
   "source": [
    "idx = 0\n",
    "code = valid_codes.iloc[idx]['Code']\n",
    "description = valid_codes.iloc[idx]['Description']\n",
    "test_df = get_data(code, description)\n",
    "test_df"
   ]
  },
  {
   "cell_type": "markdown",
   "metadata": {
    "slideshow": null
   },
   "source": [
    "## Getting all data"
   ]
  },
  {
   "cell_type": "markdown",
   "metadata": {
    "slideshow": null
   },
   "source": [
    "Now that we are sure the function works correctly, we will iterate over `valid_codes`, passing each Quandl code and table description to the function.\n",
    "\n",
    "Quandl limits the rate of API calls wecan make. To slow it down we can tell Python to `sleep` for a short time to keep it under the threshold.\n",
    "```python\n",
    "import time\n",
    "time.sleep(0.1)  # sleep for 0.1 seconds (100 ms)\n",
    "```\n",
    "\n",
    "With that, we can load all of the data into a single dataframe using `pd.concat()` function and a comprehension to handle the iteration."
   ]
  },
  {
   "cell_type": "code",
   "execution_count": 8,
   "metadata": {
    "slideshow": null
   },
   "outputs": [],
   "source": [
    "df_all = pd.concat(get_data(code, description) for code, description\n",
    "                   in valid_codes.itertuples(index=False))\n",
    "df_all.shape"
   ]
  },
  {
   "cell_type": "markdown",
   "metadata": {
    "slideshow": null
   },
   "source": [
    "We will split the data into two groups: adjusted or unadjusted data. Also, we will remove the `Total Private` and `Total Nonfarm` data, as these statistics are aggregations, not industries."
   ]
  },
  {
   "cell_type": "code",
   "execution_count": 9,
   "metadata": {},
   "outputs": [
    {
     "data": {
      "text/plain": [
       "(62160, 4)"
      ]
     },
     "execution_count": 9,
     "metadata": {},
     "output_type": "execute_result"
    }
   ],
   "source": [
    "df_raw = df_all.query(\"Adjusted == False and ~Category.str.contains('Total Private|Total Nonfarm')\")\n",
    "\n",
    "df_raw.shape"
   ]
  },
  {
   "cell_type": "code",
   "execution_count": 10,
   "metadata": {
    "slideshow": null
   },
   "outputs": [
    {
     "data": {
      "text/plain": [
       "(46524, 4)"
      ]
     },
     "execution_count": 10,
     "metadata": {},
     "output_type": "execute_result"
    }
   ],
   "source": [
    "df_adjusted = df_all.query(\"Adjusted == True and ~Category.str.contains('Total Private|Total Nonfarm')\")\n",
    "df_adjusted.shape"
   ]
  },
  {
   "cell_type": "markdown",
   "metadata": {
    "slideshow": null
   },
   "source": [
    "## Question 4: State/industry pairs"
   ]
  },
  {
   "cell_type": "markdown",
   "metadata": {
    "slideshow": null
   },
   "source": [
    "For this question, we will use the *unadjusted data* to find the 100 largest state-industry pairs for December 2015."
   ]
  },
  {
   "cell_type": "code",
   "execution_count": 11,
   "metadata": {},
   "outputs": [],
   "source": [
    "def df_selected(start_date, end_date):\n",
    "    df_raw.index = pd.to_datetime(df_raw.index)\n",
    "    mask = (df_raw.index >= start_date) & (df_raw.index <= end_date)\n",
    "    df_selected = df_raw.loc[mask]\n",
    "    return df_selected"
   ]
  },
  {
   "cell_type": "code",
   "execution_count": 12,
   "metadata": {},
   "outputs": [],
   "source": [
    "dec15 = df_selected('2015-12-1', '2015-12-31')"
   ]
  },
  {
   "cell_type": "code",
   "execution_count": 13,
   "metadata": {
    "slideshow": null
   },
   "outputs": [],
   "source": [
    "# Sort them by 'Value' and choose the top 100\n",
    "top100 = pd.DataFrame(dec15.groupby(['State', 'Category'])['Value'].sum().nlargest(100))\n",
    "\n",
    "top100.reset_index(inplace=True)"
   ]
  },
  {
   "cell_type": "code",
   "execution_count": 14,
   "metadata": {},
   "outputs": [
    {
     "data": {
      "text/plain": [
       "[(('California', 'Service-Providing'), 14362200.0),\n",
       " (('Texas', 'Service-Providing'), 10239200.0),\n",
       " (('New York', 'Service-Providing'), 8665800.0),\n",
       " (('Florida', 'Service-Providing'), 7551200.0),\n",
       " (('Illinois', 'Service-Providing'), 5244800.0)]"
      ]
     },
     "execution_count": 14,
     "metadata": {},
     "output_type": "execute_result"
    }
   ],
   "source": [
    "state_industry_tuples = [((row.State, row.Category), (row.Value)*1000) for row in top100.itertuples(index=False)]\n",
    "state_industry_tuples[0:5]"
   ]
  },
  {
   "cell_type": "markdown",
   "metadata": {
    "slideshow": null
   },
   "source": [
    "## Question 5: State total employed"
   ]
  },
  {
   "cell_type": "markdown",
   "metadata": {
    "slideshow": null
   },
   "source": [
    "Using the unadjusted data, we will calculate the total number of employed people in each state in December 2015."
   ]
  },
  {
   "cell_type": "code",
   "execution_count": 15,
   "metadata": {},
   "outputs": [
    {
     "data": {
      "text/plain": [
       "[('Alabama', 3008700), ('Alaska', 466400), ('Arizona', 3684400)]"
      ]
     },
     "execution_count": 15,
     "metadata": {},
     "output_type": "execute_result"
    }
   ],
   "source": [
    "state_total = pd.DataFrame(dec15.groupby('State')['Value'].sum())\n",
    "state_total.reset_index(inplace=True)\n",
    "\n",
    "state_total_employed = [(row.State, int(row.Value*1000)) for row in state_total.itertuples(index=False)]\n",
    "state_total_employed[:3]"
   ]
  },
  {
   "cell_type": "markdown",
   "metadata": {
    "slideshow": null
   },
   "source": [
    "## Question 6: State industry growth"
   ]
  },
  {
   "cell_type": "markdown",
   "metadata": {
    "slideshow": null
   },
   "source": [
    "Using the unadjusted data, we want to know the industry growth for each state from December 2006 to December 2015?"
   ]
  },
  {
   "cell_type": "markdown",
   "metadata": {
    "slideshow": null
   },
   "source": [
    "We want to compare rows in the `dec06` and `dec15` dataframes that have the same state and category.  When operations are conducted on dataframes, rows are matched by index.  Indices can have multiple levels.  Use the `.set_index()` method with a list as an argument to achieve this."
   ]
  },
  {
   "cell_type": "code",
   "execution_count": 16,
   "metadata": {},
   "outputs": [],
   "source": [
    "dec06 = df_selected('2006-12-1', '2006-12-31')\n",
    "group06 = pd.DataFrame(dec06.groupby(['State', 'Category'])['Value'].sum())\n",
    "group06.reset_index(inplace=True)"
   ]
  },
  {
   "cell_type": "code",
   "execution_count": 17,
   "metadata": {},
   "outputs": [],
   "source": [
    "group15 = pd.DataFrame(dec15.groupby(['State', 'Category'])['Value'].sum())\n",
    "group15.reset_index(inplace=True)"
   ]
  },
  {
   "cell_type": "markdown",
   "metadata": {
    "slideshow": null
   },
   "source": [
    "Now, we can do math directly on the dataframes."
   ]
  },
  {
   "cell_type": "code",
   "execution_count": 18,
   "metadata": {},
   "outputs": [
    {
     "data": {
      "text/html": [
       "<div>\n",
       "<style scoped>\n",
       "    .dataframe tbody tr th:only-of-type {\n",
       "        vertical-align: middle;\n",
       "    }\n",
       "\n",
       "    .dataframe tbody tr th {\n",
       "        vertical-align: top;\n",
       "    }\n",
       "\n",
       "    .dataframe thead th {\n",
       "        text-align: right;\n",
       "    }\n",
       "</style>\n",
       "<table border=\"1\" class=\"dataframe\">\n",
       "  <thead>\n",
       "    <tr style=\"text-align: right;\">\n",
       "      <th></th>\n",
       "      <th>State</th>\n",
       "      <th>Category</th>\n",
       "      <th>Value_06</th>\n",
       "      <th>Value_15</th>\n",
       "      <th>growth</th>\n",
       "    </tr>\n",
       "  </thead>\n",
       "  <tbody>\n",
       "    <tr>\n",
       "      <th>0</th>\n",
       "      <td>Alabama</td>\n",
       "      <td>Durable Goods</td>\n",
       "      <td>188.0</td>\n",
       "      <td>170.0</td>\n",
       "      <td>-9.574468</td>\n",
       "    </tr>\n",
       "    <tr>\n",
       "      <th>1</th>\n",
       "      <td>Alabama</td>\n",
       "      <td>Goods Producing</td>\n",
       "      <td>422.7</td>\n",
       "      <td>354.4</td>\n",
       "      <td>-16.158032</td>\n",
       "    </tr>\n",
       "    <tr>\n",
       "      <th>2</th>\n",
       "      <td>Alabama</td>\n",
       "      <td>Government</td>\n",
       "      <td>380.2</td>\n",
       "      <td>384.1</td>\n",
       "      <td>1.025776</td>\n",
       "    </tr>\n",
       "    <tr>\n",
       "      <th>3</th>\n",
       "      <td>Alabama</td>\n",
       "      <td>Manufacturing</td>\n",
       "      <td>299.4</td>\n",
       "      <td>260.0</td>\n",
       "      <td>-13.159653</td>\n",
       "    </tr>\n",
       "    <tr>\n",
       "      <th>4</th>\n",
       "      <td>Alabama</td>\n",
       "      <td>Mining and Logging</td>\n",
       "      <td>13.1</td>\n",
       "      <td>10.2</td>\n",
       "      <td>-22.137405</td>\n",
       "    </tr>\n",
       "  </tbody>\n",
       "</table>\n",
       "</div>"
      ],
      "text/plain": [
       "     State            Category  Value_06  Value_15     growth\n",
       "0  Alabama       Durable Goods     188.0     170.0  -9.574468\n",
       "1  Alabama     Goods Producing     422.7     354.4 -16.158032\n",
       "2  Alabama          Government     380.2     384.1   1.025776\n",
       "3  Alabama       Manufacturing     299.4     260.0 -13.159653\n",
       "4  Alabama  Mining and Logging      13.1      10.2 -22.137405"
      ]
     },
     "execution_count": 18,
     "metadata": {},
     "output_type": "execute_result"
    }
   ],
   "source": [
    "df_growth = pd.merge(group06, group15, on=['State', 'Category'], suffixes=['_06', '_15'])\n",
    "df_growth['growth'] = (df_growth['Value_15'] - df_growth['Value_06'])*100/df_growth['Value_06']\n",
    "\n",
    "df_growth.head()"
   ]
  },
  {
   "cell_type": "code",
   "execution_count": 60,
   "metadata": {},
   "outputs": [
    {
     "data": {
      "text/plain": [
       "[(('Alabama', 'Transportation and Utilities'), 4.0221914008321855),\n",
       " (('Alaska', 'Mining and Logging'), 31.45161290322581),\n",
       " (('Arizona', 'Transportation and Utilities'), 17.142857142857142)]"
      ]
     },
     "execution_count": 60,
     "metadata": {},
     "output_type": "execute_result"
    }
   ],
   "source": [
    "# Assuming 'data' is the Series with multi-level indices\n",
    "# Group the data by 'State' and find the index corresponding to the maximum growth in each group\n",
    "max_growth_indices = df_growth.groupby('State')['growth'].idxmax()\n",
    "\n",
    "# Create a list to store the tuples of states, industries, and percentages\n",
    "state_industry_growth = []\n",
    "\n",
    "# Iterate through each state and get the corresponding state, industry, and percentage values\n",
    "for state, index in max_growth_indices.items():\n",
    "    industry = df_growth['Category'].loc[index]\n",
    "    percentage = df_growth['growth'].loc[index]\n",
    "    state_industry_growth.append(((state, industry), percentage))\n",
    "\n",
    "# 'largest_percent_growth' will be a list of tuples with 53 entries, each containing the state, industry, and percentage.\n",
    "state_industry_growth[:3]"
   ]
  },
  {
   "cell_type": "markdown",
   "metadata": {
    "slideshow": null
   },
   "source": [
    "We can pull out a group from our `DataFrameGroupBy` object for analysis."
   ]
  },
  {
   "cell_type": "code",
   "execution_count": null,
   "metadata": {
    "slideshow": null
   },
   "outputs": [],
   "source": [
    "Write a function that takes this dataframe and returns the row with the maximum value."
   ]
  },
  {
   "cell_type": "code",
   "execution_count": 19,
   "metadata": {},
   "outputs": [
    {
     "data": {
      "text/plain": [
       "[(('Alabama', 'Transportation and Utilities'), 4.0221914008321855),\n",
       " (('Alaska', 'Mining and Logging'), 31.45161290322581),\n",
       " (('Arizona', 'Transportation and Utilities'), 17.142857142857142)]"
      ]
     },
     "execution_count": 19,
     "metadata": {},
     "output_type": "execute_result"
    }
   ],
   "source": [
    "def largest_value(df):\n",
    "    return df.loc[df['growth'].idxmax()]\n",
    "\n",
    "by_state = df_growth.groupby('State')\n",
    "fastest_by_state = by_state.apply(lambda x:largest_value(x))\n",
    "state_industry_growth = [((row.State, row.Category), row.growth) for row in fastest_by_state.itertuples(index=False)]\n",
    "state_industry_growth[:3]"
   ]
  },
  {
   "cell_type": "markdown",
   "metadata": {
    "slideshow": null
   },
   "source": [
    "## Question 7: Max employment"
   ]
  },
  {
   "cell_type": "markdown",
   "metadata": {
    "slideshow": null
   },
   "source": [
    "Using the unadjusted data, we want to find the number of people employed nationally in each industry during the month that industry peaked in our data set."
   ]
  },
  {
   "cell_type": "code",
   "execution_count": 20,
   "metadata": {},
   "outputs": [],
   "source": [
    "df_emp = pd.DataFrame(dec15.groupby('Category')['Value'].sum())\n",
    "df_emp.reset_index(inplace=True)"
   ]
  },
  {
   "cell_type": "code",
   "execution_count": 21,
   "metadata": {},
   "outputs": [
    {
     "data": {
      "text/plain": [
       "[('Air Transportation', 392.3),\n",
       " ('Commercial Banking', 101.5),\n",
       " ('Durable Goods', 7767.5),\n",
       " ('Goods Producing', 19786.5),\n",
       " ('Government', 23089.6),\n",
       " ('Manufacturing', 12455.9),\n",
       " ('Mining and Logging', 723.0),\n",
       " ('Rail Transportation', 15.200000000000001),\n",
       " ('Real Estate', 1050.0),\n",
       " ('Service-Providing', 126004.7),\n",
       " ('Telecommunications', 680.0),\n",
       " ('Transportation', 4.5),\n",
       " ('Transportation and Utilities', 5723.4),\n",
       " ('Truck Transportation', 1301.5),\n",
       " ('Water Transportation', 12.7),\n",
       " ('Wholesale Trade', 5800.1)]"
      ]
     },
     "execution_count": 21,
     "metadata": {},
     "output_type": "execute_result"
    }
   ],
   "source": [
    "max_employment = [(row.Category, row.Value) for row in df_emp.itertuples(index=False)]\n",
    "max_employment"
   ]
  },
  {
   "cell_type": "markdown",
   "metadata": {
    "slideshow": null
   },
   "source": [
    "## Question 8: Quarterly non-farm"
   ]
  },
  {
   "cell_type": "markdown",
   "metadata": {
    "slideshow": null
   },
   "source": [
    "Using the seasonally adjusted data, we want to calculate the quarterly percent change for national total non-farm employment. "
   ]
  },
  {
   "cell_type": "code",
   "execution_count": 25,
   "metadata": {},
   "outputs": [],
   "source": [
    "df_adjusted = df_all.query(\"Adjusted == True and Category.str.contains('Total Nonfarm')\")\n",
    "df_adjusted.reset_index(inplace=True)"
   ]
  },
  {
   "cell_type": "code",
   "execution_count": 30,
   "metadata": {},
   "outputs": [],
   "source": [
    "df_quarterly = pd.DataFrame(df_adjusted.groupby('Date')['Value'].sum().resample('Q').last())\n",
    "df_quarterly.reset_index(inplace=True)"
   ]
  },
  {
   "cell_type": "code",
   "execution_count": 31,
   "metadata": {},
   "outputs": [
    {
     "data": {
      "text/plain": [
       "[('2006-06-30', 0.33424149239995593),\n",
       " ('2006-09-30', 0.22400239945370437),\n",
       " ('2006-12-31', 0.3309307682082707)]"
      ]
     },
     "execution_count": 31,
     "metadata": {},
     "output_type": "execute_result"
    }
   ],
   "source": [
    "df_quarterly['percentage_change'] = df_quarterly['Value'].pct_change()*100\n",
    "df_quarterly.reset_index(inplace=True)\n",
    "df_quarterly['Formated_Date'] = df_quarterly['Date'].dt.strftime('%Y-%m-%d')\n",
    "df_quarterly[:3]\n",
    "\n",
    "quarterly_nonfarm = [(row.Formated_Date, row.percentage_change) for row in df_quarterly[1:].itertuples()]\n",
    "quarterly_nonfarm[:3]"
   ]
  },
  {
   "cell_type": "markdown",
   "metadata": {
    "slideshow": null
   },
   "source": [
    "## Question 9: Third largest industry"
   ]
  },
  {
   "cell_type": "markdown",
   "metadata": {
    "slideshow": null
   },
   "source": [
    "Using the unadjusted data, what is the 3rd largest industry in each state in December 2015? We'll express the employment in the 3rd largest industry as a percentage of the state's total industry employment in December 2015."
   ]
  },
  {
   "cell_type": "code",
   "execution_count": 32,
   "metadata": {},
   "outputs": [
    {
     "data": {
      "text/html": [
       "<div>\n",
       "<style scoped>\n",
       "    .dataframe tbody tr th:only-of-type {\n",
       "        vertical-align: middle;\n",
       "    }\n",
       "\n",
       "    .dataframe tbody tr th {\n",
       "        vertical-align: top;\n",
       "    }\n",
       "\n",
       "    .dataframe thead th {\n",
       "        text-align: right;\n",
       "    }\n",
       "</style>\n",
       "<table border=\"1\" class=\"dataframe\">\n",
       "  <thead>\n",
       "    <tr style=\"text-align: right;\">\n",
       "      <th></th>\n",
       "      <th>Value</th>\n",
       "    </tr>\n",
       "    <tr>\n",
       "      <th>State</th>\n",
       "      <th></th>\n",
       "    </tr>\n",
       "  </thead>\n",
       "  <tbody>\n",
       "    <tr>\n",
       "      <th>Alabama</th>\n",
       "      <td>3008.7</td>\n",
       "    </tr>\n",
       "    <tr>\n",
       "      <th>Alaska</th>\n",
       "      <td>466.4</td>\n",
       "    </tr>\n",
       "    <tr>\n",
       "      <th>Arizona</th>\n",
       "      <td>3684.4</td>\n",
       "    </tr>\n",
       "  </tbody>\n",
       "</table>\n",
       "</div>"
      ],
      "text/plain": [
       "          Value\n",
       "State          \n",
       "Alabama  3008.7\n",
       "Alaska    466.4\n",
       "Arizona  3684.4"
      ]
     },
     "execution_count": 32,
     "metadata": {},
     "output_type": "execute_result"
    }
   ],
   "source": [
    "state_sum = pd.DataFrame(group15.groupby('State')['Value'].sum())\n",
    "state_sum[:3]"
   ]
  },
  {
   "cell_type": "code",
   "execution_count": 33,
   "metadata": {},
   "outputs": [
    {
     "data": {
      "text/html": [
       "<div>\n",
       "<style scoped>\n",
       "    .dataframe tbody tr th:only-of-type {\n",
       "        vertical-align: middle;\n",
       "    }\n",
       "\n",
       "    .dataframe tbody tr th {\n",
       "        vertical-align: top;\n",
       "    }\n",
       "\n",
       "    .dataframe thead th {\n",
       "        text-align: right;\n",
       "    }\n",
       "</style>\n",
       "<table border=\"1\" class=\"dataframe\">\n",
       "  <thead>\n",
       "    <tr style=\"text-align: right;\">\n",
       "      <th></th>\n",
       "      <th>State</th>\n",
       "      <th>Category</th>\n",
       "      <th>Value_x</th>\n",
       "      <th>Value_y</th>\n",
       "      <th>percentage</th>\n",
       "    </tr>\n",
       "  </thead>\n",
       "  <tbody>\n",
       "    <tr>\n",
       "      <th>0</th>\n",
       "      <td>Alabama</td>\n",
       "      <td>Durable Goods</td>\n",
       "      <td>170.0</td>\n",
       "      <td>3008.7</td>\n",
       "      <td>5.650281</td>\n",
       "    </tr>\n",
       "    <tr>\n",
       "      <th>1</th>\n",
       "      <td>Alabama</td>\n",
       "      <td>Goods Producing</td>\n",
       "      <td>354.4</td>\n",
       "      <td>3008.7</td>\n",
       "      <td>11.779174</td>\n",
       "    </tr>\n",
       "    <tr>\n",
       "      <th>2</th>\n",
       "      <td>Alabama</td>\n",
       "      <td>Government</td>\n",
       "      <td>384.1</td>\n",
       "      <td>3008.7</td>\n",
       "      <td>12.766311</td>\n",
       "    </tr>\n",
       "    <tr>\n",
       "      <th>3</th>\n",
       "      <td>Alabama</td>\n",
       "      <td>Manufacturing</td>\n",
       "      <td>260.0</td>\n",
       "      <td>3008.7</td>\n",
       "      <td>8.641606</td>\n",
       "    </tr>\n",
       "    <tr>\n",
       "      <th>4</th>\n",
       "      <td>Alabama</td>\n",
       "      <td>Mining and Logging</td>\n",
       "      <td>10.2</td>\n",
       "      <td>3008.7</td>\n",
       "      <td>0.339017</td>\n",
       "    </tr>\n",
       "    <tr>\n",
       "      <th>...</th>\n",
       "      <td>...</td>\n",
       "      <td>...</td>\n",
       "      <td>...</td>\n",
       "      <td>...</td>\n",
       "      <td>...</td>\n",
       "    </tr>\n",
       "    <tr>\n",
       "      <th>513</th>\n",
       "      <td>Wyoming</td>\n",
       "      <td>Mining and Logging</td>\n",
       "      <td>21.7</td>\n",
       "      <td>428.7</td>\n",
       "      <td>5.061815</td>\n",
       "    </tr>\n",
       "    <tr>\n",
       "      <th>514</th>\n",
       "      <td>Wyoming</td>\n",
       "      <td>Service-Providing</td>\n",
       "      <td>238.4</td>\n",
       "      <td>428.7</td>\n",
       "      <td>55.609984</td>\n",
       "    </tr>\n",
       "    <tr>\n",
       "      <th>515</th>\n",
       "      <td>Wyoming</td>\n",
       "      <td>Transportation and Utilities</td>\n",
       "      <td>15.4</td>\n",
       "      <td>428.7</td>\n",
       "      <td>3.592256</td>\n",
       "    </tr>\n",
       "    <tr>\n",
       "      <th>516</th>\n",
       "      <td>Wyoming</td>\n",
       "      <td>Truck Transportation</td>\n",
       "      <td>4.2</td>\n",
       "      <td>428.7</td>\n",
       "      <td>0.979706</td>\n",
       "    </tr>\n",
       "    <tr>\n",
       "      <th>517</th>\n",
       "      <td>Wyoming</td>\n",
       "      <td>Wholesale Trade</td>\n",
       "      <td>9.1</td>\n",
       "      <td>428.7</td>\n",
       "      <td>2.122697</td>\n",
       "    </tr>\n",
       "  </tbody>\n",
       "</table>\n",
       "<p>518 rows × 5 columns</p>\n",
       "</div>"
      ],
      "text/plain": [
       "       State                      Category  Value_x  Value_y  percentage\n",
       "0    Alabama                 Durable Goods    170.0   3008.7    5.650281\n",
       "1    Alabama               Goods Producing    354.4   3008.7   11.779174\n",
       "2    Alabama                    Government    384.1   3008.7   12.766311\n",
       "3    Alabama                 Manufacturing    260.0   3008.7    8.641606\n",
       "4    Alabama            Mining and Logging     10.2   3008.7    0.339017\n",
       "..       ...                           ...      ...      ...         ...\n",
       "513  Wyoming            Mining and Logging     21.7    428.7    5.061815\n",
       "514  Wyoming             Service-Providing    238.4    428.7   55.609984\n",
       "515  Wyoming  Transportation and Utilities     15.4    428.7    3.592256\n",
       "516  Wyoming          Truck Transportation      4.2    428.7    0.979706\n",
       "517  Wyoming               Wholesale Trade      9.1    428.7    2.122697\n",
       "\n",
       "[518 rows x 5 columns]"
      ]
     },
     "execution_count": 33,
     "metadata": {},
     "output_type": "execute_result"
    }
   ],
   "source": [
    "df_state = pd.merge(group15, state_sum, on=['State'], how='outer')\n",
    "df_state['percentage'] = df_state['Value_x']*100/df_state['Value_y']\n",
    "df_state"
   ]
  },
  {
   "cell_type": "code",
   "execution_count": 36,
   "metadata": {},
   "outputs": [],
   "source": [
    "dec15_state = df_state.groupby('State')"
   ]
  },
  {
   "cell_type": "code",
   "execution_count": 206,
   "metadata": {},
   "outputs": [
    {
     "data": {
      "text/html": [
       "<div>\n",
       "<style scoped>\n",
       "    .dataframe tbody tr th:only-of-type {\n",
       "        vertical-align: middle;\n",
       "    }\n",
       "\n",
       "    .dataframe tbody tr th {\n",
       "        vertical-align: top;\n",
       "    }\n",
       "\n",
       "    .dataframe thead th {\n",
       "        text-align: right;\n",
       "    }\n",
       "</style>\n",
       "<table border=\"1\" class=\"dataframe\">\n",
       "  <thead>\n",
       "    <tr style=\"text-align: right;\">\n",
       "      <th></th>\n",
       "      <th>State</th>\n",
       "      <th>Category</th>\n",
       "      <th>Value_x</th>\n",
       "      <th>Value_y</th>\n",
       "      <th>percentage</th>\n",
       "    </tr>\n",
       "  </thead>\n",
       "  <tbody>\n",
       "    <tr>\n",
       "      <th>5</th>\n",
       "      <td>Alabama</td>\n",
       "      <td>Service-Providing</td>\n",
       "      <td>1645.7</td>\n",
       "      <td>3008.7</td>\n",
       "      <td>54.698042</td>\n",
       "    </tr>\n",
       "    <tr>\n",
       "      <th>2</th>\n",
       "      <td>Alabama</td>\n",
       "      <td>Government</td>\n",
       "      <td>384.1</td>\n",
       "      <td>3008.7</td>\n",
       "      <td>12.766311</td>\n",
       "    </tr>\n",
       "    <tr>\n",
       "      <th>1</th>\n",
       "      <td>Alabama</td>\n",
       "      <td>Goods Producing</td>\n",
       "      <td>354.4</td>\n",
       "      <td>3008.7</td>\n",
       "      <td>11.779174</td>\n",
       "    </tr>\n",
       "  </tbody>\n",
       "</table>\n",
       "</div>"
      ],
      "text/plain": [
       "     State           Category  Value_x  Value_y  percentage\n",
       "5  Alabama  Service-Providing   1645.7   3008.7   54.698042\n",
       "2  Alabama         Government    384.1   3008.7   12.766311\n",
       "1  Alabama    Goods Producing    354.4   3008.7   11.779174"
      ]
     },
     "execution_count": 206,
     "metadata": {},
     "output_type": "execute_result"
    }
   ],
   "source": [
    "large3 = dec15_state.get_group('Alabama').nlargest(3, 'percentage')\n",
    "large3"
   ]
  },
  {
   "cell_type": "code",
   "execution_count": 207,
   "metadata": {},
   "outputs": [
    {
     "data": {
      "text/html": [
       "<div>\n",
       "<style scoped>\n",
       "    .dataframe tbody tr th:only-of-type {\n",
       "        vertical-align: middle;\n",
       "    }\n",
       "\n",
       "    .dataframe tbody tr th {\n",
       "        vertical-align: top;\n",
       "    }\n",
       "\n",
       "    .dataframe thead th {\n",
       "        text-align: right;\n",
       "    }\n",
       "</style>\n",
       "<table border=\"1\" class=\"dataframe\">\n",
       "  <thead>\n",
       "    <tr style=\"text-align: right;\">\n",
       "      <th></th>\n",
       "      <th>State</th>\n",
       "      <th>Category</th>\n",
       "      <th>Value_x</th>\n",
       "      <th>Value_y</th>\n",
       "      <th>percentage</th>\n",
       "    </tr>\n",
       "  </thead>\n",
       "  <tbody>\n",
       "    <tr>\n",
       "      <th>1</th>\n",
       "      <td>Alabama</td>\n",
       "      <td>Goods Producing</td>\n",
       "      <td>354.4</td>\n",
       "      <td>3008.7</td>\n",
       "      <td>11.779174</td>\n",
       "    </tr>\n",
       "  </tbody>\n",
       "</table>\n",
       "</div>"
      ],
      "text/plain": [
       "     State         Category  Value_x  Value_y  percentage\n",
       "1  Alabama  Goods Producing    354.4   3008.7   11.779174"
      ]
     },
     "execution_count": 207,
     "metadata": {},
     "output_type": "execute_result"
    }
   ],
   "source": [
    "large3.tail(1)"
   ]
  },
  {
   "cell_type": "code",
   "execution_count": 34,
   "metadata": {},
   "outputs": [],
   "source": [
    "def third_largest(df):\n",
    "    return df.nlargest(3, 'percentage').tail(1)"
   ]
  },
  {
   "cell_type": "code",
   "execution_count": 37,
   "metadata": {},
   "outputs": [],
   "source": [
    "AZ = dec15_state.get_group('Arizona')"
   ]
  },
  {
   "cell_type": "code",
   "execution_count": 38,
   "metadata": {},
   "outputs": [
    {
     "data": {
      "text/html": [
       "<div>\n",
       "<style scoped>\n",
       "    .dataframe tbody tr th:only-of-type {\n",
       "        vertical-align: middle;\n",
       "    }\n",
       "\n",
       "    .dataframe tbody tr th {\n",
       "        vertical-align: top;\n",
       "    }\n",
       "\n",
       "    .dataframe thead th {\n",
       "        text-align: right;\n",
       "    }\n",
       "</style>\n",
       "<table border=\"1\" class=\"dataframe\">\n",
       "  <thead>\n",
       "    <tr style=\"text-align: right;\">\n",
       "      <th></th>\n",
       "      <th>State</th>\n",
       "      <th>Category</th>\n",
       "      <th>Value_x</th>\n",
       "      <th>Value_y</th>\n",
       "      <th>percentage</th>\n",
       "    </tr>\n",
       "  </thead>\n",
       "  <tbody>\n",
       "    <tr>\n",
       "      <th>22</th>\n",
       "      <td>Arizona</td>\n",
       "      <td>Goods Producing</td>\n",
       "      <td>303.6</td>\n",
       "      <td>3684.4</td>\n",
       "      <td>8.240148</td>\n",
       "    </tr>\n",
       "  </tbody>\n",
       "</table>\n",
       "</div>"
      ],
      "text/plain": [
       "      State         Category  Value_x  Value_y  percentage\n",
       "22  Arizona  Goods Producing    303.6   3684.4    8.240148"
      ]
     },
     "execution_count": 38,
     "metadata": {},
     "output_type": "execute_result"
    }
   ],
   "source": [
    "third_largest(AZ)"
   ]
  },
  {
   "cell_type": "code",
   "execution_count": 39,
   "metadata": {},
   "outputs": [
    {
     "data": {
      "text/html": [
       "<div>\n",
       "<style scoped>\n",
       "    .dataframe tbody tr th:only-of-type {\n",
       "        vertical-align: middle;\n",
       "    }\n",
       "\n",
       "    .dataframe tbody tr th {\n",
       "        vertical-align: top;\n",
       "    }\n",
       "\n",
       "    .dataframe thead th {\n",
       "        text-align: right;\n",
       "    }\n",
       "</style>\n",
       "<table border=\"1\" class=\"dataframe\">\n",
       "  <thead>\n",
       "    <tr style=\"text-align: right;\">\n",
       "      <th></th>\n",
       "      <th></th>\n",
       "      <th>State</th>\n",
       "      <th>Category</th>\n",
       "      <th>Value_x</th>\n",
       "      <th>Value_y</th>\n",
       "      <th>percentage</th>\n",
       "    </tr>\n",
       "    <tr>\n",
       "      <th>State</th>\n",
       "      <th></th>\n",
       "      <th></th>\n",
       "      <th></th>\n",
       "      <th></th>\n",
       "      <th></th>\n",
       "      <th></th>\n",
       "    </tr>\n",
       "  </thead>\n",
       "  <tbody>\n",
       "    <tr>\n",
       "      <th>Alabama</th>\n",
       "      <th>1</th>\n",
       "      <td>Alabama</td>\n",
       "      <td>Goods Producing</td>\n",
       "      <td>354.4</td>\n",
       "      <td>3008.7</td>\n",
       "      <td>11.779174</td>\n",
       "    </tr>\n",
       "    <tr>\n",
       "      <th>Alaska</th>\n",
       "      <th>12</th>\n",
       "      <td>Alaska</td>\n",
       "      <td>Goods Producing</td>\n",
       "      <td>39.0</td>\n",
       "      <td>466.4</td>\n",
       "      <td>8.361921</td>\n",
       "    </tr>\n",
       "    <tr>\n",
       "      <th>Arizona</th>\n",
       "      <th>22</th>\n",
       "      <td>Arizona</td>\n",
       "      <td>Goods Producing</td>\n",
       "      <td>303.6</td>\n",
       "      <td>3684.4</td>\n",
       "      <td>8.240148</td>\n",
       "    </tr>\n",
       "  </tbody>\n",
       "</table>\n",
       "</div>"
      ],
      "text/plain": [
       "              State         Category  Value_x  Value_y  percentage\n",
       "State                                                             \n",
       "Alabama 1   Alabama  Goods Producing    354.4   3008.7   11.779174\n",
       "Alaska  12   Alaska  Goods Producing     39.0    466.4    8.361921\n",
       "Arizona 22  Arizona  Goods Producing    303.6   3684.4    8.240148"
      ]
     },
     "execution_count": 39,
     "metadata": {},
     "output_type": "execute_result"
    }
   ],
   "source": [
    "df_third_largest = dec15_state.apply(lambda x:third_largest(x))\n",
    "df_third_largest[:3]"
   ]
  },
  {
   "cell_type": "code",
   "execution_count": 40,
   "metadata": {},
   "outputs": [
    {
     "data": {
      "text/plain": [
       "[(('Alabama', 'Goods Producing'), 11.779173729517732),\n",
       " (('Alaska', 'Goods Producing'), 8.361921097770155),\n",
       " (('Arizona', 'Goods Producing'), 8.240147649549453)]"
      ]
     },
     "execution_count": 40,
     "metadata": {},
     "output_type": "execute_result"
    }
   ],
   "source": [
    "third_largest = [((row.State, row.Category), row.percentage) for row in df_third_largest.itertuples()]\n",
    "third_largest[:3]"
   ]
  }
 ],
 "metadata": {
  "kernelspec": {
   "display_name": "Python 3 (ipykernel)",
   "language": "python",
   "name": "python3"
  },
  "language_info": {
   "codemirror_mode": {
    "name": "ipython",
    "version": 3
   },
   "file_extension": ".py",
   "mimetype": "text/x-python",
   "name": "python",
   "nbconvert_exporter": "python",
   "pygments_lexer": "ipython3",
   "version": "3.11.4"
  },
  "nbclean": true
 },
 "nbformat": 4,
 "nbformat_minor": 4
}
